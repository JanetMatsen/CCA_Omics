{
 "cells": [
  {
   "cell_type": "code",
   "execution_count": null,
   "metadata": {
    "collapsed": true
   },
   "outputs": [],
   "source": [
    "import numpy as np\n",
    "import pandas as pd\n",
    "import matplotlib.pylab as plt\n",
    "\n",
    "import rpy2.robjects as robjects\n",
    "from rpy2.robjects.packages import importr\n",
    "\n",
    "from rpy2.robjects import pandas2ri\n",
    "pandas2ri.activate()\n",
    "import rpy2.robjects.numpy2ri as rpyn \n",
    "# import rpy2.robjects.numpy2ri as rpyn\n",
    "rpyn.activate()\n",
    "\n",
    "R_PMA = importr('PMA')\n",
    "R_CCA = robjects.r('CCA')"
   ]
  },
  {
   "cell_type": "code",
   "execution_count": null,
   "metadata": {
    "collapsed": false
   },
   "outputs": [],
   "source": [
    "import os\n",
    "os.getcwd()"
   ]
  },
  {
   "cell_type": "code",
   "execution_count": null,
   "metadata": {
    "collapsed": true
   },
   "outputs": [],
   "source": [
    "import sys\n",
    "sys.path.append('../')"
   ]
  },
  {
   "cell_type": "code",
   "execution_count": null,
   "metadata": {
    "collapsed": false
   },
   "outputs": [],
   "source": [
    "from cross_validate import CrossValidateExpressionCca"
   ]
  },
  {
   "cell_type": "code",
   "execution_count": null,
   "metadata": {
    "collapsed": true
   },
   "outputs": [],
   "source": [
    "R_PMA = importr('PMA')\n",
    "permute = robjects.r(\"CCA.permute\")"
   ]
  },
  {
   "cell_type": "code",
   "execution_count": null,
   "metadata": {
    "collapsed": false
   },
   "outputs": [],
   "source": [
    "x = pd.read_csv('../../data/m_nmm_summed_on_gene/m.tsv')\n",
    "z = pd.read_csv('../../data/m_nmm_summed_on_gene/nmm.tsv')\n",
    "\n",
    "for df in [x, z]:\n",
    "        df.rename(columns={'Unnamed: 0':'sample'}, inplace=True)\n",
    "        df.set_index('sample', inplace=True)\n",
    "        \n",
    "xr, xc = x.shape\n",
    "zr, zc = z.shape\n",
    "x_R = robjects.r.matrix(x.as_matrix(), nrow=xr, ncol=xc)\n",
    "z_R = robjects.r.matrix(z.as_matrix(), nrow=zr, ncol=zc)"
   ]
  },
  {
   "cell_type": "code",
   "execution_count": null,
   "metadata": {
    "collapsed": false
   },
   "outputs": [],
   "source": [
    "x.shape, x.as_matrix().shape"
   ]
  },
  {
   "cell_type": "raw",
   "metadata": {
    "collapsed": false
   },
   "source": [
    "perm = permute(x_R, z_R, typex=\"standard\", typez=\"standard\", niter=1000, nperms=4) "
   ]
  },
  {
   "cell_type": "raw",
   "metadata": {
    "collapsed": false
   },
   "source": [
    "for n in perm.names: print(n)"
   ]
  },
  {
   "cell_type": "raw",
   "metadata": {
    "collapsed": false
   },
   "source": [
    "perm.rx('bestpenaltyx')"
   ]
  },
  {
   "cell_type": "raw",
   "metadata": {
    "collapsed": false
   },
   "source": [
    "np.asarray(perm.rx('bestpenaltyx'))[0,0]"
   ]
  },
  {
   "cell_type": "raw",
   "metadata": {
    "collapsed": false
   },
   "source": [
    "np.asarray(perm.rx('bestpenaltyz'))[0,0]"
   ]
  },
  {
   "cell_type": "code",
   "execution_count": null,
   "metadata": {
    "collapsed": false
   },
   "outputs": [],
   "source": [
    "import itertools\n",
    "list(itertools.product([1, 2, 3], [4, 5, 6]))"
   ]
  },
  {
   "cell_type": "code",
   "execution_count": null,
   "metadata": {
    "collapsed": false
   },
   "outputs": [],
   "source": [
    "list(itertools.product([0.2, 0.3], [0.2, 0.3]))"
   ]
  },
  {
   "cell_type": "code",
   "execution_count": null,
   "metadata": {
    "collapsed": false
   },
   "outputs": [],
   "source": [
    "cv = CrossValidateExpressionCca(x=x, z=z, folds=4)"
   ]
  },
  {
   "cell_type": "code",
   "execution_count": null,
   "metadata": {
    "collapsed": false
   },
   "outputs": [],
   "source": [
    "cv.models"
   ]
  },
  {
   "cell_type": "code",
   "execution_count": null,
   "metadata": {
    "collapsed": false
   },
   "outputs": [],
   "source": [
    "cv.model_each_fold(0, 0)"
   ]
  },
  {
   "cell_type": "code",
   "execution_count": null,
   "metadata": {
    "collapsed": false
   },
   "outputs": [],
   "source": [
    "cv.plot_cross_val()"
   ]
  },
  {
   "cell_type": "code",
   "execution_count": null,
   "metadata": {
    "collapsed": false
   },
   "outputs": [],
   "source": [
    "vl = [0.1, 0.2, 0.3, 0.4, 0.5, 0.6, 0.7, 0.8, 0.9]\n",
    "[(v, v) for v in vl]"
   ]
  },
  {
   "cell_type": "code",
   "execution_count": null,
   "metadata": {
    "collapsed": false
   },
   "outputs": [],
   "source": [
    "cv.model_list_of_penalty_tuples([(v, v) for v in vl])"
   ]
  },
  {
   "cell_type": "code",
   "execution_count": null,
   "metadata": {
    "collapsed": false
   },
   "outputs": [],
   "source": [
    "cv.plot_cross_val()"
   ]
  },
  {
   "cell_type": "code",
   "execution_count": null,
   "metadata": {
    "collapsed": false
   },
   "outputs": [],
   "source": [
    "    def plot_cross_val(self):\n",
    "        colors = {1:'#9e9ac8', 2:'#807dba', 3:'#6a51a3', 4:'#4a1486'}\n",
    "        fig, axs = plt.subplots(2, 2, figsize=(6,5))\n",
    "        plts = {'penalty_x, train': axs[0,0],\n",
    "                'penalty_z, train': axs[1,0],\n",
    "                'penalty_x, val': axs[0,1],\n",
    "                'penalty_z, val': axs[1,1]}\n",
    "        titles = {'penalty_x, train': 'train corr, penalty_x',\n",
    "                'penalty_z, train': 'train corr, penalty_z',\n",
    "                'penalty_x, val': 'val corr, penalty_x',\n",
    "                'penalty_z, val': 'val corr, penalty_z'}\n",
    "\n",
    "        #import pdb; pdb.set_trace()\n",
    "        for p_key in plts.keys():\n",
    "            print(p_key)\n",
    "            ax = plts[p_key]\n",
    "\n",
    "            # get x variable\n",
    "            if 'x' in p_key:\n",
    "                x = 'penalty_x'\n",
    "            else:\n",
    "                x = 'penalty_z'\n",
    "\n",
    "            # get y variable\n",
    "            if 'train' in p_key:\n",
    "                y = 'train correlation'\n",
    "            else:\n",
    "                y = 'validation correlation'\n",
    "\n",
    "            # plot each fold's trend.\n",
    "            for fold, df in self.summary.groupby('fold'):\n",
    "                df.sort_values(by=x, inplace=True)\n",
    "                # plot\n",
    "                ax.plot(df[x], df[y], color=colors[fold],\n",
    "                        marker='o', label='fold {}'.format(fold))\n",
    "\n",
    "            ax.set_title(titles[p_key])\n",
    "            \n",
    "        # couldn't get a legend to work.\n",
    "        plt.tight_layout()\n",
    "        return fig\n",
    "            \n",
    "plot_cross_val(cv)"
   ]
  },
  {
   "cell_type": "code",
   "execution_count": null,
   "metadata": {
    "collapsed": true
   },
   "outputs": [],
   "source": []
  }
 ],
 "metadata": {
  "anaconda-cloud": {},
  "kernelspec": {
   "display_name": "Python [conda env:mlpy3]",
   "language": "python",
   "name": "conda-env-mlpy3-py"
  },
  "language_info": {
   "codemirror_mode": {
    "name": "ipython",
    "version": 3
   },
   "file_extension": ".py",
   "mimetype": "text/x-python",
   "name": "python",
   "nbconvert_exporter": "python",
   "pygments_lexer": "ipython3",
   "version": "3.5.2"
  }
 },
 "nbformat": 4,
 "nbformat_minor": 1
}
