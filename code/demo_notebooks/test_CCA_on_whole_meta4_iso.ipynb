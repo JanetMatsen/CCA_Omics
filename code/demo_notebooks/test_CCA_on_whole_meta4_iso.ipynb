{
 "cells": [
  {
   "cell_type": "code",
   "execution_count": null,
   "metadata": {
    "collapsed": false
   },
   "outputs": [],
   "source": [
    "import math\n",
    "import matplotlib as mpl\n",
    "import matplotlib\n",
    "matplotlib.use('Agg')\n",
    "%matplotlib inline\n",
    "import matplotlib.pyplot as plt\n",
    "import numpy as np\n",
    "import pandas as pd\n",
    "import pprint\n",
    "import seaborn as sns\n",
    "import subprocess"
   ]
  },
  {
   "cell_type": "code",
   "execution_count": null,
   "metadata": {
    "collapsed": true
   },
   "outputs": [],
   "source": [
    "import sys\n",
    "sys.path.append('../')"
   ]
  },
  {
   "cell_type": "code",
   "execution_count": null,
   "metadata": {
    "collapsed": true
   },
   "outputs": [],
   "source": [
    "import os"
   ]
  },
  {
   "cell_type": "code",
   "execution_count": null,
   "metadata": {
    "collapsed": false
   },
   "outputs": [],
   "source": [
    "os.listdir('../')"
   ]
  },
  {
   "cell_type": "code",
   "execution_count": null,
   "metadata": {
    "collapsed": false
   },
   "outputs": [],
   "source": [
    "from CCA import CcaExpression"
   ]
  },
  {
   "cell_type": "code",
   "execution_count": null,
   "metadata": {
    "collapsed": true
   },
   "outputs": [],
   "source": [
    "def strip_pandas_to_numpy(thing):\n",
    "    if isinstance(thing, pd.DataFrame):\n",
    "        df = thing.copy()\n",
    "        print(\"convert dataframe to naked numpy\")\n",
    "        if 'Unnamed: 0' in df.columns:\n",
    "            del df['Unnamed: 0']\n",
    "        a = df.as_matrix()\n",
    "        return a"
   ]
  },
  {
   "cell_type": "code",
   "execution_count": null,
   "metadata": {
    "collapsed": false
   },
   "outputs": [],
   "source": [
    "x = pd.read_csv('../../data/m_nmm_summed_on_gene/m.tsv')\n",
    "z = pd.read_csv('../../data/m_nmm_summed_on_gene/nmm.tsv')\n",
    "\n",
    "x_matrix = strip_pandas_to_numpy(x)\n",
    "z_matrix = strip_pandas_to_numpy(z)\n",
    "\n",
    "from sklearn.preprocessing import StandardScaler\n",
    "x_SS = StandardScaler()\n",
    "z_SS = StandardScaler()\n",
    "\n",
    "x_matrix = x_SS.fit_transform(x_matrix)\n",
    "z_matrix = z_SS.fit_transform(z_matrix)\n",
    "\n",
    "x_CCA = pd.concat([pd.DataFrame(x_matrix), pd.DataFrame(x)['Unnamed: 0']], axis=1)\n",
    "z_CCA = pd.concat([pd.DataFrame(z_matrix), pd.DataFrame(z)['Unnamed: 0']], axis=1)\n",
    "\n",
    "cca_exp = CcaExpression(x=x_CCA, z=z_CCA, penalty_x=0.2, penalty_z=0.2)\n",
    "pprint.pprint(cca_exp.get_summary())"
   ]
  },
  {
   "cell_type": "code",
   "execution_count": null,
   "metadata": {
    "collapsed": false
   },
   "outputs": [],
   "source": [
    "x.head(1)"
   ]
  },
  {
   "cell_type": "code",
   "execution_count": null,
   "metadata": {
    "collapsed": false
   },
   "outputs": [],
   "source": [
    "p = cca_exp.hist_of_counts_for_feature(0)"
   ]
  },
  {
   "cell_type": "code",
   "execution_count": null,
   "metadata": {
    "collapsed": true
   },
   "outputs": [],
   "source": []
  }
 ],
 "metadata": {
  "anaconda-cloud": {},
  "kernelspec": {
   "display_name": "Python [conda env:mlpy3]",
   "language": "python",
   "name": "conda-env-mlpy3-py"
  },
  "language_info": {
   "codemirror_mode": {
    "name": "ipython",
    "version": 3
   },
   "file_extension": ".py",
   "mimetype": "text/x-python",
   "name": "python",
   "nbconvert_exporter": "python",
   "pygments_lexer": "ipython3",
   "version": "3.5.2"
  }
 },
 "nbformat": 4,
 "nbformat_minor": 1
}
